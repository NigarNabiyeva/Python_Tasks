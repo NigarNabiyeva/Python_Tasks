{
 "cells": [
  {
   "cell_type": "code",
   "execution_count": 1,
   "id": "6e9439d9-7885-4056-8a43-c1430d66f85b",
   "metadata": {},
   "outputs": [
    {
     "name": "stdout",
     "output_type": "stream",
     "text": [
      "Hello, Python!\n"
     ]
    }
   ],
   "source": [
    "#Write a Python script that prints the message \"Hello, Python!\" to the console.\n",
    "print(\"Hello, Python!\")"
   ]
  },
  {
   "cell_type": "code",
   "execution_count": 3,
   "id": "dbd823d2-ee91-43b5-84df-6fe6f8773039",
   "metadata": {},
   "outputs": [
    {
     "name": "stdout",
     "output_type": "stream",
     "text": [
      "5\n"
     ]
    }
   ],
   "source": [
    "#Define two variables a and b and assign them the values 2 and 3, respectively.\n",
    "#Calculate the sum of a and b and store the result in a variable c.\n",
    "#Print the value of c.\n",
    "a=2\n",
    "b=3\n",
    "c=a+b\n",
    "print(c)"
   ]
  },
  {
   "cell_type": "code",
   "execution_count": 5,
   "id": "d06a4c94-c8e4-48c0-8591-4d83d2895cb9",
   "metadata": {},
   "outputs": [
    {
     "name": "stdout",
     "output_type": "stream",
     "text": [
      "My BMI is 22.20\n"
     ]
    }
   ],
   "source": [
    "#Define two variables, `height` and `weight`, and assign them your height is 1.75 and weight is 68, respectively.\n",
    "#Calculate the BMI (Body Mass Index) using the formula: BMI = weight / (height ** 2).\n",
    "#Print the calculated BMI.\n",
    "#Use f-strings to format the output BMI to two decimal places.\n",
    "height=1.75\n",
    "weight=68\n",
    "BMI=weight/(height**2)\n",
    "print(f\"My BMI is {BMI:.2f}\")"
   ]
  },
  {
   "cell_type": "code",
   "execution_count": 2,
   "id": "7f6f544d-6492-49f6-8889-212f40052555",
   "metadata": {},
   "outputs": [
    {
     "name": "stdout",
     "output_type": "stream",
     "text": [
      "['Apple', 'Banana', 'Cherry']\n"
     ]
    }
   ],
   "source": [
    "#Create a list named fruits containing your three favorite fruits(\"Apple\", \"Banana\", \"Cherry\").\n",
    "#Print each fruit from the list individually.\n",
    "fruits = [\"Apple\", \"Banana\", \"Cherry\"]\n",
    "print(fruits)"
   ]
  },
  {
   "cell_type": "code",
   "execution_count": 4,
   "id": "c7d1f9c8-af52-4077-8ae6-761a7cee5870",
   "metadata": {},
   "outputs": [
    {
     "name": "stdout",
     "output_type": "stream",
     "text": [
      "{'name': 'John', 'age': 30, 'city': 'New York'}\n"
     ]
    }
   ],
   "source": [
    "#Create a dictionary named person representing a person's information with keys as \"name\", \"age\", and \"city\".\n",
    "#Assign appropriate values to each key.\n",
    "#Print the dictionary representing the person.\n",
    "#Note: The name is John, age 30, the city is New York.\n",
    "person={\n",
    "    \"name\":\"John\",\n",
    "    \"age\": 30,\n",
    "    \"city\": \"New York\"\n",
    "}\n",
    "print(person)"
   ]
  },
  {
   "cell_type": "code",
   "execution_count": 6,
   "id": "21dd90cd-be5f-4622-b534-11905a95e435",
   "metadata": {},
   "outputs": [
    {
     "name": "stdout",
     "output_type": "stream",
     "text": [
      "x is positive\n"
     ]
    }
   ],
   "source": [
    "#Write a Python script that checks if a number stored in a variable x is positive, negative, or zero. When x is 3.\n",
    "#Print an appropriate message based on the value of x.\n",
    "x=3\n",
    "if (x<0):\n",
    "    print(\"x is negative\")\n",
    "elif(x>0):\n",
    "    print(\"x is positive\")\n",
    "else:\n",
    "    print(\"x is zero\")"
   ]
  },
  {
   "cell_type": "code",
   "execution_count": 1,
   "id": "56fbc40a-1c57-4297-9523-42a52a8af447",
   "metadata": {},
   "outputs": [
    {
     "name": "stdout",
     "output_type": "stream",
     "text": [
      "1\n",
      "4\n",
      "9\n",
      "16\n",
      "25\n",
      "36\n",
      "49\n",
      "64\n",
      "81\n",
      "100\n"
     ]
    }
   ],
   "source": [
    "#Write a Python script to generate the first 10 square numbers.\n",
    "#Print each square number on a separate line.\n",
    "for i in range(1,11):\n",
    "    print(i**2)"
   ]
  },
  {
   "cell_type": "code",
   "execution_count": 5,
   "id": "c447eed8-3193-4814-8045-da59f153082b",
   "metadata": {},
   "outputs": [
    {
     "name": "stdout",
     "output_type": "stream",
     "text": [
      "True\n",
      "False\n"
     ]
    }
   ],
   "source": [
    "#Define a function named is_even that takes a parameter number.\n",
    "#Inside the function, use the modulo operator % to check if number is divisible by 2.\n",
    "#Return True if the remainder is 0, indicating that the number is even; otherwise, return False.\n",
    "#Call the is_even function with different numbers and print the result.\n",
    "#In the exercise, check the function for 4 and 5 numbers.\n",
    "def is_even(number):\n",
    "    return number % 2 == 0\n",
    "print(is_even(4)) # True\n",
    "print(is_even(5)) # False"
   ]
  },
  {
   "cell_type": "code",
   "execution_count": 7,
   "id": "ca5917f1-6af8-4537-a7ea-549679419dd4",
   "metadata": {},
   "outputs": [
    {
     "name": "stdout",
     "output_type": "stream",
     "text": [
      "256\n"
     ]
    }
   ],
   "source": [
    "#Create a lambda function that takes two parameters x and y, and returns x raised to the power of y.\n",
    "#Use the lambda function to calculate 2 raised to the power of 8.\n",
    "#Print the result.\n",
    "power = lambda x, y: x ** y\n",
    "print(power(2, 8))"
   ]
  },
  {
   "cell_type": "code",
   "execution_count": 13,
   "id": "c91b0f79-18b7-4b41-a5e9-6bb14355bbba",
   "metadata": {},
   "outputs": [
    {
     "name": "stdout",
     "output_type": "stream",
     "text": [
      "[28 29 30]\n"
     ]
    }
   ],
   "source": [
    "#Import the NumPy library using the alias np.\n",
    "#Create a NumPy array named arr containing numbers from 10 to 30 (inclusive).\n",
    "#Access the last three records from the array.\n",
    "#Print the last three records.\n",
    "import numpy as np \n",
    "arr = np.arange(10,31)\n",
    "ltr=arr[-3:]\n",
    "print(ltr)"
   ]
  },
  {
   "cell_type": "code",
   "execution_count": 15,
   "id": "771615a4-f5b3-4195-a525-9fb704c3d64d",
   "metadata": {},
   "outputs": [
    {
     "name": "stdout",
     "output_type": "stream",
     "text": [
      "[ 1.          1.47368421  1.94736842  2.42105263  2.89473684  3.36842105\n",
      "  3.84210526  4.31578947  4.78947368  5.26315789  5.73684211  6.21052632\n",
      "  6.68421053  7.15789474  7.63157895  8.10526316  8.57894737  9.05263158\n",
      "  9.52631579 10.        ]\n"
     ]
    }
   ],
   "source": [
    "#Create a NumPy array of 20 evenly spaced numbers between 1 and 10\n",
    "#Note: Store the result in a variable, e.g., `arr`.\n",
    "import numpy as np \n",
    "arr=np.linspace(1,10, 20)\n",
    "print(arr)"
   ]
  },
  {
   "cell_type": "code",
   "execution_count": 17,
   "id": "9d4f18b1-40ca-4aa6-a08c-91bac44d4374",
   "metadata": {},
   "outputs": [
    {
     "name": "stdout",
     "output_type": "stream",
     "text": [
      "[11 12 13 14 15 16 17 18 19 20]\n",
      "15.5\n"
     ]
    }
   ],
   "source": [
    "#Write a Python code to create an array named arr that contains the numbers from 1 to 30. and \n",
    "#then access the middle 10 values and then find the median from the middle values of the array.\n",
    "import numpy as np \n",
    "arr=np.arange(1,31)\n",
    "middle_values=arr[10:20]\n",
    "median=np.median(middle_values)\n",
    "print(middle_values)\n",
    "print(median)"
   ]
  },
  {
   "cell_type": "code",
   "execution_count": 21,
   "id": "69209fa1-441c-470a-aa1a-fbd9a89a977a",
   "metadata": {},
   "outputs": [
    {
     "name": "stdout",
     "output_type": "stream",
     "text": [
      "   Subject  Attempts  Time in min\n",
      "0     Math         3           60\n",
      "1  English         1           45\n",
      "2  Science         2           60\n"
     ]
    }
   ],
   "source": [
    "#Please write a Python code to create a dictionary and transform it into a DataFrame. \n",
    "#The DataFrame should have three columns: the first column should be called 'Subject' and contain the values 'Math', 'English', and 'Science'; the second column should be called 'Attempts' \n",
    "#and contain the values 3, 1, and 2; the third column should be called 'Time in min' and contain the values 60, 45, and 60.\n",
    "import pandas as pd \n",
    "data ={\n",
    "    'Subject' : ['Math', 'English', 'Science'],\n",
    "   'Attempts' : [3, 1, 2],\n",
    "   'Time in min':  [60, 45, 60]\n",
    "}\n",
    "df=pd.DataFrame(data)\n",
    "print(df)"
   ]
  },
  {
   "cell_type": "code",
   "execution_count": 25,
   "id": "d571a49e-5d01-491c-a3a5-fb2f00712740",
   "metadata": {},
   "outputs": [
    {
     "data": {
      "image/png": "[encoded data removed]",
      "text/plain": [
       "<Figure size 640x480 with 1 Axes>"
      ]
     },
     "metadata": {},
     "output_type": "display_data"
    }
   ],
   "source": [
    "#Generate a line chart that compares the average session length of users on a website for different days of the week using Matplotlib.\n",
    "#days = [\"Monday\", \"Tuesday\", \"Wednesday\", \"Thursday\", \"Friday\"]\n",
    "#session_lengths = [30, 45, 20, 50, 40]\n",
    "import matplotlib.pyplot as plt \n",
    "days = [\"Monday\", \"Tuesday\", \"Wednesday\", \"Thursday\", \"Friday\"]\n",
    "session_length = [30, 45, 20, 50, 40]\n",
    "plt.plot(days, session_length)\n",
    "plt.title('Average Session Length per Day')\n",
    "plt.xlabel('Day')\n",
    "plt.ylabel('Average Session Length (minutes)')\n",
    "plt.show()"
   ]
  },
  {
   "cell_type": "code",
   "execution_count": 27,
   "id": "f9553c2a-dcde-4c67-b37f-dd697836762b",
   "metadata": {},
   "outputs": [
    {
     "data": {
      "image/png": "[encoded data removed]",
      "text/plain": [
       "<Figure size 640x480 with 1 Axes>"
      ]
     },
     "metadata": {},
     "output_type": "display_data"
    }
   ],
   "source": [
    "#Create a scatter plot representing random(50) data points with x and y coordinates using Matplotlib library.\n",
    "#Note: Use np.random.rand(50) to generate random data points for both x and y coordinates.\n",
    "import numpy as np\n",
    "import matplotlib.pyplot as plt\n",
    "x = np.random.rand(50)\n",
    "y = np.random.rand(50)\n",
    "plt.scatter(x, y)\n",
    "plt.title(\"RDP\")\n",
    "plt.xlabel(\"x\")\n",
    "plt.ylabel(\"y\")\n",
    "plt.show()"
   ]
  }
 ],
 "metadata": {
  "kernelspec": {
   "display_name": "Python 3 (ipykernel)",
   "language": "python",
   "name": "python3"
  },
  "language_info": {
   "codemirror_mode": {
    "name": "ipython",
    "version": 3
   },
   "file_extension": ".py",
   "mimetype": "text/x-python",
   "name": "python",
   "nbconvert_exporter": "python",
   "pygments_lexer": "ipython3",
   "version": "3.12.4"
  }
 },
 "nbformat": 4,
 "nbformat_minor": 5
}
